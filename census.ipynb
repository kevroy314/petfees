{
 "cells": [
  {
   "cell_type": "code",
   "execution_count": 1,
   "id": "accomplished-rwanda",
   "metadata": {},
   "outputs": [],
   "source": [
    "import pandas as pd\n",
    "df = pd.read_csv(\"~/desktop/apartment_crawler/top_20_data.csv\")"
   ]
  },
  {
   "cell_type": "code",
   "execution_count": null,
   "id": "funky-richardson",
   "metadata": {},
   "outputs": [
    {
     "name": "stdout",
     "output_type": "stream",
     "text": [
      "INFO: Pandarallel will run on 12 workers.\n",
      "INFO: Pandarallel will use Memory file system to transfer data between the main process and workers.\n"
     ]
    },
    {
     "data": {
      "application/vnd.jupyter.widget-view+json": {
       "model_id": "0b6114225fe3451188ad0a1be40cf92b",
       "version_major": 2,
       "version_minor": 0
      },
      "text/plain": [
       "  0%|          | 0/5911 [00:00<?, ?it/s]"
      ]
     },
     "metadata": {},
     "output_type": "display_data"
    }
   ],
   "source": [
    "from geopy.geocoders import Nominatim\n",
    "from tqdm.auto import tqdm\n",
    "tqdm.pandas()\n",
    "from pandarallel import pandarallel\n",
    "pandarallel.initialize(progress_bar=True)\n",
    "\n",
    "import geopy.geocoders\n",
    "geopy.geocoders.options.default_timeout = 10\n",
    "\n",
    "geolocator = Nominatim(user_agent=\"petfees\")\n",
    "df['address_cleaned'] = df['address'].str.split('–').apply(lambda x: x[0])\n",
    "df['geopy'] = df['address_cleaned'].progress_apply(lambda address: geolocator.geocode(address, addressdetails=True)) # Can take ~50min\n",
    "df['longitude'] = df['geopy'].parallel_apply(lambda geopy_address: geopy_address.longitude if geopy_address else None)\n",
    "df['latitude'] = df['geopy'].parallel_apply(lambda geopy_address: geopy_address.latitude if geopy_address else None)\n",
    "df['spatialjusticetemplate'] = df.parallel_apply(lambda row: template.format(row['latitude'], row['longitude']), axis=1)"
   ]
  },
  {
   "cell_type": "code",
   "execution_count": null,
   "id": "informed-score",
   "metadata": {},
   "outputs": [],
   "source": [
    "import pickle as pkl\n",
    "with open(\"geo.pkl\", \"wb\") as fp:\n",
    "    pkl.dump(df, fp)"
   ]
  },
  {
   "cell_type": "code",
   "execution_count": null,
   "id": "pacific-intake",
   "metadata": {},
   "outputs": [],
   "source": [
    "import requests\n",
    "import json\n",
    "df['census'] = df.progress_apply(lambda row: json.loads(requests.get(row['spatialjusticetemplate']).content.decode(\"utf-8\")), axis=1)"
   ]
  }
 ],
 "metadata": {
  "kernelspec": {
   "display_name": "Python 3",
   "language": "python",
   "name": "python3"
  },
  "language_info": {
   "codemirror_mode": {
    "name": "ipython",
    "version": 3
   },
   "file_extension": ".py",
   "mimetype": "text/x-python",
   "name": "python",
   "nbconvert_exporter": "python",
   "pygments_lexer": "ipython3",
   "version": "3.8.0"
  }
 },
 "nbformat": 4,
 "nbformat_minor": 5
}
